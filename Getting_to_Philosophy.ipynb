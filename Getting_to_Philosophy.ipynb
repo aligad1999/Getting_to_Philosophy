{
  "nbformat": 4,
  "nbformat_minor": 0,
  "metadata": {
    "colab": {
      "name": "Getting to Philosophy.ipynb",
      "provenance": [],
      "collapsed_sections": [],
      "authorship_tag": "ABX9TyMbuJ/lMz1mkfgCmTwRXVYf",
      "include_colab_link": true
    },
    "kernelspec": {
      "name": "python3",
      "display_name": "Python 3"
    }
  },
  "cells": [
    {
      "cell_type": "markdown",
      "metadata": {
        "id": "view-in-github",
        "colab_type": "text"
      },
      "source": [
        "<a href=\"https://colab.research.google.com/github/aligad1999/Getting_to_Philosophy/blob/master/Getting_to_Philosophy.ipynb\" target=\"_parent\"><img src=\"https://colab.research.google.com/assets/colab-badge.svg\" alt=\"Open In Colab\"/></a>"
      ]
    },
    {
      "cell_type": "code",
      "metadata": {
        "id": "Y5TzH43fBPXT",
        "colab_type": "code",
        "colab": {}
      },
      "source": [
        "import requests\n",
        "from bs4 import BeautifulSoup\n",
        "import time\n",
        "import urllib\n"
      ],
      "execution_count": null,
      "outputs": []
    },
    {
      "cell_type": "code",
      "metadata": {
        "id": "KzqkDqUyBREk",
        "colab_type": "code",
        "colab": {}
      },
      "source": [
        "def getting_first_link(html_page,current_url):\n",
        "  reached=0\n",
        "  for element in html_page.find_all(\"p\"):\n",
        "    if element.a is not None:\n",
        "\n",
        "      first_link = element.find(\"a\", recursive=False).get('href')\n",
        "      if element.a.text == \"philosophy\":\n",
        "        reached=1;\n",
        "      \n",
        "      visit_next=urllib.parse.urljoin('https://en.wikipedia.org/', first_link)\n",
        "      return visit_next,reached\n",
        "  print(\"didn t find url associated to page \"+ current_url)\n",
        "  return None,reached\n"
      ],
      "execution_count": null,
      "outputs": []
    },
    {
      "cell_type": "code",
      "metadata": {
        "id": "9o-BenjYBVYa",
        "colab_type": "code",
        "colab": {
          "base_uri": "https://localhost:8080/",
          "height": 221
        },
        "outputId": "f6d73289-1c76-4b44-b3ef-82576335713c"
      },
      "source": [
        "\n",
        "reached=0\n",
        "print('Enter your start page url')\n",
        "current_page_url=\"https://en.wikipedia.org/wiki/Special:Random\"\n",
        "#current_page_url=input()\n",
        "pages_visited=0\n",
        "while(not reached and pages_visited < 10):  \n",
        "  try:\n",
        "    response = requests.get(current_page_url)\n",
        "  except:\n",
        "    print(\"coudn't retrive the page corresponding to the url\" + current_page_url)\n",
        "    break\n",
        "  html_format = response.text\n",
        "  html_parsed=BeautifulSoup(html_format, \"html.parser\")\n",
        "  current_page_url,reached=getting_first_link(html_parsed,current_page_url)\n",
        "  if current_page_url is None:\n",
        "    print(\"dead end exiting ....\")\n",
        "    break\n",
        "  \n",
        "  pages_visited += 1\n",
        "  time.sleep(0.5)\n",
        "  print(\"retriving current url=\" ,current_page_url) \n",
        "\n",
        "  \n",
        "if reached!=0:\n",
        "  print(\"sccessfully reached the philosophy page on wiki with url = \"+ current_page_url)\n",
        "else:\n",
        "  print(\"NULL\")\n"
      ],
      "execution_count": null,
      "outputs": [
        {
          "output_type": "stream",
          "text": [
            "Enter your start page url\n",
            "retriving current url= https://en.wikipedia.org/wiki/French_language\n",
            "retriving current url= https://en.wikipedia.org/wiki/Romance_languages\n",
            "retriving current url= https://en.wikipedia.org/wiki/Vulgar_Latin\n",
            "retriving current url= https://en.wikipedia.org/wiki/Standard_language\n",
            "retriving current url= https://en.wikipedia.org/wiki/Variety_(linguistics)\n",
            "retriving current url= https://en.wikipedia.org/wiki/Sociolinguistics\n",
            "retriving current url= https://en.wikipedia.org/wiki/Society\n",
            "retriving current url= https://en.wikipedia.org/wiki/Social_group\n",
            "retriving current url= https://en.wikipedia.org/wiki/Social_science\n",
            "retriving current url= https://en.wikipedia.org/wiki/Branches_of_science\n",
            "NULL\n"
          ],
          "name": "stdout"
        }
      ]
    }
  ]
}